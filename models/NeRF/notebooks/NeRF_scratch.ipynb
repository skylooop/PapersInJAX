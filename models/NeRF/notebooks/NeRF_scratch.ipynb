{
 "cells": [
  {
   "cell_type": "code",
   "execution_count": 7,
   "id": "661f5a08-f5e3-4857-b96a-f6f035f94ac5",
   "metadata": {
    "tags": []
   },
   "outputs": [],
   "source": [
    "import os\n",
    "import time\n",
    "import wandb\n",
    "import requests\n",
    "from typing import Any\n",
    "import ipywidgets as widgets\n",
    "from functools import partial\n",
    "from tqdm.notebook import tqdm\n",
    "\n",
    "import jax\n",
    "import flax\n",
    "import optax\n",
    "from jax import lax\n",
    "import flax.linen as nn\n",
    "from flax.training import train_state, common_utils\n",
    "\n",
    "import numpy as np\n",
    "import jax.numpy as jnp\n",
    "\n",
    "from base64 import b64encode\n",
    "from IPython.display import HTML\n",
    "import plotly.express as px\n",
    "from plotly.subplots import make_subplots\n",
    "import matplotlib.pyplot as plt\n",
    "from mpl_toolkits.axes_grid1 import ImageGrid"
   ]
  },
  {
   "cell_type": "markdown",
   "id": "b9fd7867-9d98-4fc4-b8cb-aeaf2ddafe54",
   "metadata": {},
   "source": [
    "# Content\n",
    "1. [**Wandb initialization 🐝**](#1)"
   ]
  },
  {
   "cell_type": "markdown",
   "id": "47b3e7b7-c0c5-47b4-886b-4164538e42a8",
   "metadata": {},
   "source": [
    "<a id=\"1\"></a>\n",
    "# 🐝Wandb initialization"
   ]
  },
  {
   "cell_type": "code",
   "execution_count": null,
   "id": "dfc03c36-46c2-4e40-81e8-cdcc752544fd",
   "metadata": {},
   "outputs": [],
   "source": [
    "os.environ['WANDB_API_KEY'] = #insert here your key\n",
    "wandb.init(project=\"nerf-jax\", job_type=\"test\")\n",
    "\n",
    "config = wandb.config\n",
    "config.near_bound = 2.\n",
    "config.far_bound = 6.\n",
    "config.batch_size = int(1e4)\n",
    "config.num_sample_points = 256\n",
    "config.epsilon = 1e10\n",
    "config.positional_encoding_dims = 6\n",
    "config.num_dense_layers = 8\n",
    "config.dense_layer_width = 256\n",
    "config.learning_rate = 5e-4\n",
    "config.train_epochs = 1000\n",
    "config.plot_interval = 200"
   ]
  },
  {
   "cell_type": "code",
   "execution_count": null,
   "id": "ea30c30f-dac0-4fae-a551-86e78354720b",
   "metadata": {},
   "outputs": [],
   "source": []
  },
  {
   "cell_type": "code",
   "execution_count": 21,
   "id": "acba2207-6891-4a62-8184-00e7a50b1315",
   "metadata": {
    "tags": []
   },
   "outputs": [
    {
     "data": {
      "text/plain": [
       "<Precision.DEFAULT: 0>"
      ]
     },
     "execution_count": 21,
     "metadata": {},
     "output_type": "execute_result"
    }
   ],
   "source": [
    "lax.Precision.DEFAULT"
   ]
  },
  {
   "cell_type": "code",
   "execution_count": null,
   "id": "0f96d3d4-4bba-4e77-8d6a-6192f863ebe4",
   "metadata": {},
   "outputs": [],
   "source": []
  }
 ],
 "metadata": {
  "kernelspec": {
   "display_name": "Python 3 (ipykernel)",
   "language": "python",
   "name": "python3"
  },
  "language_info": {
   "codemirror_mode": {
    "name": "ipython",
    "version": 3
   },
   "file_extension": ".py",
   "mimetype": "text/x-python",
   "name": "python",
   "nbconvert_exporter": "python",
   "pygments_lexer": "ipython3",
   "version": "3.10.9"
  }
 },
 "nbformat": 4,
 "nbformat_minor": 5
}
